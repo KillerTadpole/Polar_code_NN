{
  "nbformat": 4,
  "nbformat_minor": 0,
  "metadata": {
    "colab": {
      "name": "Untitled2.ipynb",
      "provenance": [],
      "collapsed_sections": []
    },
    "kernelspec": {
      "name": "python3",
      "display_name": "Python 3"
    },
    "language_info": {
      "name": "python"
    },
    "accelerator": "GPU"
  },
  "cells": [
    {
      "cell_type": "code",
      "metadata": {
        "id": "XoJrXUuQwbSS"
      },
      "source": [
        "import numpy as np\n",
        "import matplotlib.pyplot as plt\n",
        "!pip install py-polar-codes\n",
        "import polarcodes as pc\n"
      ],
      "execution_count": null,
      "outputs": []
    },
    {
      "cell_type": "code",
      "metadata": {
        "id": "tY69wOItw3sO"
      },
      "source": [
        "\n",
        "# initialise polar code\n",
        "myPC = pc.PolarCode(256, 100)\n",
        "myPC.construction_type = 'bb'\n",
        "\n",
        "# mothercode construction\n",
        "design_SNR  = 5.0\n",
        "pc.Construct(myPC, design_SNR)\n",
        "print(myPC, \"\\n\\n\")\n",
        "\n",
        "# set message\n",
        "my_message = np.random.randint(2, size=myPC.K)\n",
        "myPC.set_message(my_message)\n",
        "print(\"The message is:\", my_message)\n",
        "\n",
        "# encode message\n",
        "pc.Encode(myPC)\n",
        "print(\"The coded message is:\", myPC.get_codeword())\n",
        "\n",
        "# transmit the codeword\n",
        "pc.AWGN(myPC, design_SNR)\n",
        "print(\"The log-likelihoods are:\", myPC.likelihoods)\n",
        "\n",
        "# decode the received codeword\n",
        "pc.Decode(myPC)\n",
        "print(\"The decoded message is:\", myPC.message_received)"
      ],
      "execution_count": null,
      "outputs": []
    }
  ]
}